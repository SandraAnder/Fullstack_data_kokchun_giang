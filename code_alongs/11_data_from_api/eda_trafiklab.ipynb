{
 "cells": [
  {
   "cell_type": "markdown",
   "metadata": {},
   "source": [
    "# EDA on trafiklab resrobot API"
   ]
  },
  {
   "cell_type": "code",
   "execution_count": 9,
   "metadata": {},
   "outputs": [
    {
     "data": {
      "text/plain": [
       "dict_keys(['Trip', 'ResultStatus', 'TechnicalMessages', 'serverVersion', 'dialectVersion', 'planRtTs', 'requestId', 'scrB', 'scrF'])"
      ]
     },
     "execution_count": 9,
     "metadata": {},
     "output_type": "execute_result"
    }
   ],
   "source": [
    "from dotenv import load_dotenv\n",
    "import os \n",
    "import requests\n",
    "\n",
    "load_dotenv()\n",
    "\n",
    "API_KEY = os.getenv(\"API_KEY\")\n",
    "\n",
    "url = f\"https://api.resrobot.se/v2.1/trip?format=json&originId=740000002&destId=740000003&passlist=true&showPassingPoints=true&accessId={API_KEY}\"\n",
    "\n",
    "response = requests.get(url)\n",
    "\n",
    "result = response.json()\n",
    "result.keys()"
   ]
  },
  {
   "cell_type": "code",
   "execution_count": 12,
   "metadata": {},
   "outputs": [
    {
     "data": {
      "text/plain": [
       "5"
      ]
     },
     "execution_count": 12,
     "metadata": {},
     "output_type": "execute_result"
    }
   ],
   "source": [
    "len(result[\"Trip\"])"
   ]
  },
  {
   "cell_type": "code",
   "execution_count": 16,
   "metadata": {},
   "outputs": [
    {
     "data": {
      "text/plain": [
       "({'timeDiffCritical': False},\n",
       " {'TechnicalMessage': [{'value': '2025-01-07 11:07:11', 'key': 'requestTime'},\n",
       "   {'value': 'ttp=16417#16603 plancode0=zzlri planid=1736224604 planid0=1736224604 planid_adr=1479298166 plancode_adr=q0r10 srvv=5.45.SAMTRAFIKEN.15.0.1 (customer/hcusamtrafiken/release/2023.10.0) [2023-10-19] tlibv=TRFVER: rel/pproxy/4.00.0 2022-10-24 18:24:51 +0200 Relay_EnrichmentProxy v1 jno=1',\n",
       "    'key': 'backendInfo'}]},\n",
       " '1970-01-01T01:00:00.000+01:00',\n",
       " '3|OB|MTµ14µ42460µ42460µ42648µ42648µ0µ0µ365µ42427µ1µ0µ1122µ0µ0µ-2147483648µ1µ2|PDHµ378355956619a5b7de5fd8151f63f427|RDµ7012025|RTµ110711|USµ1|RSµINIT')"
      ]
     },
     "execution_count": 16,
     "metadata": {},
     "output_type": "execute_result"
    }
   ],
   "source": [
    "result[\"ResultStatus\"], result[\"TechnicalMessages\"], result[\"planRtTs\"], result[\"scrB\"]"
   ]
  },
  {
   "cell_type": "code",
   "execution_count": 19,
   "metadata": {},
   "outputs": [
    {
     "data": {
      "text/plain": [
       "dict_keys(['Origin', 'Destination', 'ServiceDays', 'LegList', 'calculation', 'TripStatus', 'idx', 'tripId', 'ctxRecon', 'duration', 'rtDuration', 'checksum'])"
      ]
     },
     "execution_count": 19,
     "metadata": {},
     "output_type": "execute_result"
    }
   ],
   "source": [
    "example_trip = result[\"Trip\"][0]\n",
    "example_trip.keys()"
   ]
  },
  {
   "cell_type": "code",
   "execution_count": 21,
   "metadata": {},
   "outputs": [
    {
     "data": {
      "text/plain": [
       "{'name': 'Göteborg Centralstation',\n",
       " 'type': 'ST',\n",
       " 'id': 'A=1@O=Göteborg Centralstation@X=11973479@Y=57708895@U=1@L=740000002@',\n",
       " 'extId': '740000002',\n",
       " 'lon': 11.973479,\n",
       " 'lat': 57.708895,\n",
       " 'routeIdx': 0,\n",
       " 'prognosisType': 'PROGNOSED',\n",
       " 'time': '11:40:00',\n",
       " 'date': '2025-01-07',\n",
       " 'minimumChangeDuration': 'PT15M'}"
      ]
     },
     "execution_count": 21,
     "metadata": {},
     "output_type": "execute_result"
    }
   ],
   "source": [
    "example_trip[\"Origin\"]"
   ]
  },
  {
   "cell_type": "code",
   "execution_count": 22,
   "metadata": {},
   "outputs": [
    {
     "data": {
      "text/plain": [
       "{'name': 'Malmö Centralstation',\n",
       " 'type': 'ST',\n",
       " 'id': 'A=1@O=Malmö Centralstation@X=13000910@Y=55609456@U=1@L=740000003@',\n",
       " 'extId': '740000003',\n",
       " 'lon': 13.00091,\n",
       " 'lat': 55.609456,\n",
       " 'routeIdx': 12,\n",
       " 'prognosisType': 'PROGNOSED',\n",
       " 'time': '14:48:00',\n",
       " 'date': '2025-01-07',\n",
       " 'minimumChangeDuration': 'PT15M'}"
      ]
     },
     "execution_count": 22,
     "metadata": {},
     "output_type": "execute_result"
    }
   ],
   "source": [
    "example_trip[\"Destination\"]"
   ]
  },
  {
   "cell_type": "code",
   "execution_count": 28,
   "metadata": {},
   "outputs": [
    {
     "data": {
      "text/plain": [
       "dict_keys(['Origin', 'Destination', 'Notes', 'JourneyDetailRef', 'JourneyStatus', 'Product', 'Stops', 'JourneyDetail', 'id', 'idx', 'name', 'number', 'category', 'type', 'reachable', 'waitingState', 'direction', 'directionFlag', 'duration'])"
      ]
     },
     "execution_count": 28,
     "metadata": {},
     "output_type": "execute_result"
    }
   ],
   "source": [
    "example_trip[\"LegList\"][\"Leg\"][0].keys()"
   ]
  },
  {
   "cell_type": "code",
   "execution_count": 33,
   "metadata": {},
   "outputs": [
    {
     "data": {
      "text/plain": [
       "[{'name': 'Göteborg Centralstation',\n",
       "  'id': 'A=1@O=Göteborg Centralstation@X=11973479@Y=57708895@U=1@L=740000002@',\n",
       "  'extId': '740000002',\n",
       "  'routeIdx': 0,\n",
       "  'lon': 11.973479,\n",
       "  'lat': 57.708895,\n",
       "  'depPrognosisType': 'PROGNOSED',\n",
       "  'depTime': '11:40:00',\n",
       "  'depDate': '2025-01-07',\n",
       "  'depDir': 'Köpenhamn Österport (Danmark)',\n",
       "  'minimumChangeDuration': 'PT15M'},\n",
       " {'name': 'Mölndal station',\n",
       "  'id': 'A=1@O=Mölndal station@X=12018722@Y=57655958@U=1@L=740000315@',\n",
       "  'extId': '740000315',\n",
       "  'routeIdx': 1,\n",
       "  'lon': 12.018722,\n",
       "  'lat': 57.655958,\n",
       "  'depTime': '11:48:00',\n",
       "  'depDate': '2025-01-07',\n",
       "  'arrTime': '11:48:00',\n",
       "  'arrDate': '2025-01-07',\n",
       "  'minimumChangeDuration': 'PT9M'},\n",
       " {'name': 'Kungsbacka station',\n",
       "  'id': 'A=1@O=Kungsbacka station@X=12079614@Y=57490556@U=1@L=740000161@',\n",
       "  'extId': '740000161',\n",
       "  'routeIdx': 2,\n",
       "  'lon': 12.079614,\n",
       "  'lat': 57.490556,\n",
       "  'depTime': '11:59:00',\n",
       "  'depDate': '2025-01-07',\n",
       "  'arrTime': '11:59:00',\n",
       "  'arrDate': '2025-01-07',\n",
       "  'minimumChangeDuration': 'PT5M'},\n",
       " {'name': 'Varberg station',\n",
       "  'id': 'A=1@O=Varberg station@X=12248081@Y=57109378@U=1@L=740000110@',\n",
       "  'extId': '740000110',\n",
       "  'routeIdx': 3,\n",
       "  'lon': 12.248081,\n",
       "  'lat': 57.109378,\n",
       "  'depTime': '12:29:00',\n",
       "  'depDate': '2025-01-07',\n",
       "  'arrTime': '12:25:00',\n",
       "  'arrDate': '2025-01-07',\n",
       "  'minimumChangeDuration': 'PT5M'},\n",
       " {'name': 'Falkenberg station',\n",
       "  'id': 'A=1@O=Falkenberg station@X=12507555@Y=56919768@U=1@L=740001579@',\n",
       "  'extId': '740001579',\n",
       "  'routeIdx': 4,\n",
       "  'lon': 12.507555,\n",
       "  'lat': 56.919768,\n",
       "  'depTime': '12:45:00',\n",
       "  'depDate': '2025-01-07',\n",
       "  'arrTime': '12:45:00',\n",
       "  'arrDate': '2025-01-07',\n",
       "  'minimumChangeDuration': 'PT4M'},\n",
       " {'name': 'Halmstad Centralstation',\n",
       "  'id': 'A=1@O=Halmstad Centralstation@X=12864840@Y=56669275@U=1@L=740000080@',\n",
       "  'extId': '740000080',\n",
       "  'routeIdx': 5,\n",
       "  'lon': 12.86484,\n",
       "  'lat': 56.669275,\n",
       "  'depTime': '13:13:00',\n",
       "  'depDate': '2025-01-07',\n",
       "  'arrTime': '13:03:00',\n",
       "  'arrDate': '2025-01-07',\n",
       "  'minimumChangeDuration': 'PT10M'},\n",
       " {'name': 'Laholm station',\n",
       "  'id': 'A=1@O=Laholm station@X=12999606@Y=56501905@U=1@L=740000058@',\n",
       "  'extId': '740000058',\n",
       "  'routeIdx': 6,\n",
       "  'lon': 12.999606,\n",
       "  'lat': 56.501905,\n",
       "  'depTime': '13:25:00',\n",
       "  'depDate': '2025-01-07',\n",
       "  'arrTime': '13:25:00',\n",
       "  'arrDate': '2025-01-07',\n",
       "  'minimumChangeDuration': 'PT9M'},\n",
       " {'name': 'Båstad station',\n",
       "  'id': 'A=1@O=Båstad station@X=12906991@Y=56431834@U=1@L=740001603@',\n",
       "  'extId': '740001603',\n",
       "  'routeIdx': 7,\n",
       "  'lon': 12.906991,\n",
       "  'lat': 56.431834,\n",
       "  'depTime': '13:32:00',\n",
       "  'depDate': '2025-01-07',\n",
       "  'arrTime': '13:32:00',\n",
       "  'arrDate': '2025-01-07',\n",
       "  'minimumChangeDuration': 'PT4M'},\n",
       " {'name': 'Ängelholm station',\n",
       "  'id': 'A=1@O=Ängelholm station@X=12854197@Y=56245200@U=1@L=740000064@',\n",
       "  'extId': '740000064',\n",
       "  'routeIdx': 8,\n",
       "  'lon': 12.854197,\n",
       "  'lat': 56.2452,\n",
       "  'depTime': '13:43:00',\n",
       "  'depDate': '2025-01-07',\n",
       "  'arrTime': '13:43:00',\n",
       "  'arrDate': '2025-01-07',\n",
       "  'minimumChangeDuration': 'PT10M'},\n",
       " {'name': 'Helsingborg Centralstation',\n",
       "  'id': 'A=1@O=Helsingborg Centralstation@X=12694261@Y=56044408@U=1@L=740000044@',\n",
       "  'extId': '740000044',\n",
       "  'routeIdx': 9,\n",
       "  'lon': 12.694261,\n",
       "  'lat': 56.044408,\n",
       "  'depTime': '14:07:00',\n",
       "  'depDate': '2025-01-07',\n",
       "  'arrTime': '14:04:00',\n",
       "  'arrDate': '2025-01-07',\n",
       "  'minimumChangeDuration': 'PT9M'},\n",
       " {'name': 'Landskrona station',\n",
       "  'id': 'A=1@O=Landskrona station@X=12857406@Y=55878898@U=1@L=740001554@',\n",
       "  'extId': '740001554',\n",
       "  'routeIdx': 10,\n",
       "  'lon': 12.857406,\n",
       "  'lat': 55.878898,\n",
       "  'depTime': '14:19:00',\n",
       "  'depDate': '2025-01-07',\n",
       "  'arrTime': '14:19:00',\n",
       "  'arrDate': '2025-01-07',\n",
       "  'minimumChangeDuration': 'PT9M'},\n",
       " {'name': 'Lund Centralstation',\n",
       "  'id': 'A=1@O=Lund Centralstation@X=13186897@Y=55708094@U=1@L=740000120@',\n",
       "  'extId': '740000120',\n",
       "  'routeIdx': 11,\n",
       "  'lon': 13.186897,\n",
       "  'lat': 55.708094,\n",
       "  'depTime': '14:38:00',\n",
       "  'depDate': '2025-01-07',\n",
       "  'arrTime': '14:36:00',\n",
       "  'arrDate': '2025-01-07',\n",
       "  'minimumChangeDuration': 'PT10M'},\n",
       " {'name': 'Malmö Centralstation',\n",
       "  'id': 'A=1@O=Malmö Centralstation@X=13000910@Y=55609456@U=1@L=740000003@',\n",
       "  'extId': '740000003',\n",
       "  'routeIdx': 12,\n",
       "  'lon': 13.00091,\n",
       "  'lat': 55.609456,\n",
       "  'arrTime': '14:48:00',\n",
       "  'arrDate': '2025-01-07',\n",
       "  'minimumChangeDuration': 'PT15M'}]"
      ]
     },
     "execution_count": 33,
     "metadata": {},
     "output_type": "execute_result"
    }
   ],
   "source": [
    "stops = example_trip[\"LegList\"][\"Leg\"][0][\"Stops\"][\"Stop\"]\n",
    "stops"
   ]
  },
  {
   "cell_type": "code",
   "execution_count": null,
   "metadata": {},
   "outputs": [],
   "source": []
  }
 ],
 "metadata": {
  "kernelspec": {
   "display_name": ".venv",
   "language": "python",
   "name": "python3"
  },
  "language_info": {
   "codemirror_mode": {
    "name": "ipython",
    "version": 3
   },
   "file_extension": ".py",
   "mimetype": "text/x-python",
   "name": "python",
   "nbconvert_exporter": "python",
   "pygments_lexer": "ipython3",
   "version": "3.11.8"
  }
 },
 "nbformat": 4,
 "nbformat_minor": 2
}
